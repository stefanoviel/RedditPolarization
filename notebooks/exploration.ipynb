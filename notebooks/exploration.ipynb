{
 "cells": [
  {
   "cell_type": "code",
   "execution_count": 2,
   "id": "bb4c074c-dc5d-4318-b093-b128a8494f1e",
   "metadata": {},
   "outputs": [],
   "source": [
    "import duckdb\n",
    "conn = duckdb.connect(\"../data/dbs/duck_db.db\")"
   ]
  },
  {
   "cell_type": "code",
   "execution_count": 10,
   "id": "86552414",
   "metadata": {},
   "outputs": [
    {
     "data": {
      "text/plain": [
       "[('AskReddit', 574926),\n",
       " ('reddit.com', 321198),\n",
       " ('funny', 311154),\n",
       " ('pics', 233290),\n",
       " ('gaming', 168332),\n",
       " ('videos', 163290),\n",
       " ('AdviceAnimals', 145410),\n",
       " ('leagueoflegends', 142120),\n",
       " ('news', 121533),\n",
       " ('politics', 116129)]"
      ]
     },
     "execution_count": 10,
     "metadata": {},
     "output_type": "execute_result"
    }
   ],
   "source": [
    "cursor = conn.execute(\"\"\"SELECT subreddit, COUNT(*) as submission_count\n",
    "                        FROM submissions\n",
    "                        GROUP BY subreddit\n",
    "                        ORDER BY submission_count DESC;\n",
    "                        \"\"\")\n",
    "\n",
    "# Fetch all the results\n",
    "results = cursor.fetchall()\n",
    "\n",
    "results[:10]"
   ]
  },
  {
   "cell_type": "code",
   "execution_count": null,
   "id": "b8fd7683",
   "metadata": {},
   "outputs": [],
   "source": [
    "query = \"SELECT * FROM submissions WHERE subreddit = 'The_Donald'\"\n",
    "cursor = conn.execute(query)\n",
    "\n",
    "# Fetch all the results\n",
    "results = cursor.fetchall()"
   ]
  },
  {
   "cell_type": "code",
   "execution_count": null,
   "id": "14277e71",
   "metadata": {},
   "outputs": [],
   "source": []
  },
  {
   "cell_type": "code",
   "execution_count": 7,
   "id": "61aff1dd",
   "metadata": {},
   "outputs": [
    {
     "name": "stdout",
     "output_type": "stream",
     "text": [
      "subreddit\n",
      "score\n",
      "author\n",
      "created_utc\n",
      "title\n",
      "id\n",
      "num_comments\n",
      "upvote_ratio\n",
      "selftext\n"
     ]
    }
   ],
   "source": [
    "# Assuming 'conn' is your SQLite connection object and 'table_name' is the name of your table\n",
    "table_name = \"submissions\"  # Replace with your actual table name\n",
    "cursor = conn.execute(f\"PRAGMA table_info({table_name})\")\n",
    "\n",
    "# Fetch all the column details\n",
    "columns = cursor.fetchall()\n",
    "\n",
    "# Print each column name\n",
    "for column in columns:\n",
    "    print(column[1])  # Column names are typically in the second position\n"
   ]
  }
 ],
 "metadata": {
  "kernelspec": {
   "display_name": "Python 3 (ipykernel)",
   "language": "python",
   "name": "python3"
  },
  "language_info": {
   "codemirror_mode": {
    "name": "ipython",
    "version": 3
   },
   "file_extension": ".py",
   "mimetype": "text/x-python",
   "name": "python",
   "nbconvert_exporter": "python",
   "pygments_lexer": "ipython3",
   "version": "3.8.19"
  }
 },
 "nbformat": 4,
 "nbformat_minor": 5
}
