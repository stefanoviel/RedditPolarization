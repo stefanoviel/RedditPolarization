{
 "cells": [
  {
   "cell_type": "code",
   "execution_count": null,
   "id": "bb4c074c-dc5d-4318-b093-b128a8494f1e",
   "metadata": {},
   "outputs": [
    {
     "ename": "",
     "evalue": "",
     "output_type": "error",
     "traceback": [
      "\u001b[1;31mRunning cells with '/usr/bin/python3' requires the ipykernel package.\n",
      "\u001b[1;31mRun the following command to install 'ipykernel' into the Python environment. \n",
      "\u001b[1;31mCommand: '/usr/bin/python3 -m pip install ipykernel -U --user --force-reinstall'"
     ]
    }
   ],
   "source": [
    "import pandas as pd\n",
    "\n",
    "# Specify the file path\n",
    "file_path = 'RS_2019-01_3.parquet.snappy'\n",
    "\n",
    "# Use pandas to read the Parquet file\n",
    "df = pd.read_parquet(file_path, engine='pyarrow')\n",
    "\n",
    "# Now you can work with the DataFrame 'df'\n",
    "print(df.head())  # Example: print the first few rows\n"
   ]
  },
  {
   "cell_type": "code",
   "execution_count": 3,
   "id": "cc59dcca",
   "metadata": {},
   "outputs": [
    {
     "name": "stdout",
     "output_type": "stream",
     "text": [
      "Python path configuration:\n",
      "  PYTHONHOME = '/cluster/software/stacks/2024-05/python-cuda/3.11.6'\n",
      "  PYTHONPATH = '/python:/python'\n",
      "  program name = '/cluster/apps/nss/gcc-8.2.0/python/3.10.4/x86_64/bin/python'\n",
      "  isolated = 0\n",
      "  environment = 1\n",
      "  user site = 1\n",
      "  import site = 1\n",
      "  sys._base_executable = '/cluster/apps/nss/gcc-8.2.0/python/3.10.4/x86_64/bin/python'\n",
      "  sys.base_prefix = '/cluster/software/stacks/2024-05/python-cuda/3.11.6'\n",
      "  sys.base_exec_prefix = '/cluster/software/stacks/2024-05/python-cuda/3.11.6'\n",
      "  sys.platlibdir = 'lib'\n",
      "  sys.executable = '/cluster/apps/nss/gcc-8.2.0/python/3.10.4/x86_64/bin/python'\n",
      "  sys.prefix = '/cluster/software/stacks/2024-05/python-cuda/3.11.6'\n",
      "  sys.exec_prefix = '/cluster/software/stacks/2024-05/python-cuda/3.11.6'\n",
      "  sys.path = [\n",
      "    '/python',\n",
      "    '/python',\n",
      "    '/cluster/software/stacks/2024-05/python-cuda/3.11.6/lib/python310.zip',\n",
      "    '/cluster/software/stacks/2024-05/python-cuda/3.11.6/lib/python3.10',\n",
      "    '/cluster/software/stacks/2024-05/python-cuda/3.11.6/lib/python3.10/lib-dynload',\n",
      "  ]\n",
      "Fatal Python error: init_fs_encoding: failed to get the Python codec of the filesystem encoding\n",
      "Python runtime state: core initialized\n",
      "ModuleNotFoundError: No module named 'encodings'\n",
      "\n",
      "Current thread 0x0000146c33d38740 (most recent call first):\n",
      "  <no Python frame>\n"
     ]
    }
   ],
   "source": [
    "! pip install pyarrow"
   ]
  }
 ],
 "metadata": {
  "kernelspec": {
   "display_name": "Python 3 (ipykernel)",
   "language": "python",
   "name": "python3"
  },
  "language_info": {
   "codemirror_mode": {
    "name": "ipython",
    "version": 3
   },
   "file_extension": ".py",
   "mimetype": "text/x-python",
   "name": "python",
   "nbconvert_exporter": "python",
   "pygments_lexer": "ipython3",
   "version": "3.10.12"
  }
 },
 "nbformat": 4,
 "nbformat_minor": 5
}
